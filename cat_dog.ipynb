{
 "cells": [
  {
   "cell_type": "code",
   "execution_count": 68,
   "metadata": {},
   "outputs": [],
   "source": [
    "import cv2 #used to grayscale and resize images \n",
    "import numpy as np #dealing with arrays \n",
    "import os #deal with directories \n",
    "from random import shuffle #mixing up our currently ordered data that might lead our network astray in training \n",
    "from tqdm import tqdm #a nice pretty percentage bar for tasks.  \n",
    "\n",
    "from PIL import Image\n",
    "import matplotlib.pyplot as plt"
   ]
  },
  {
   "cell_type": "code",
   "execution_count": 9,
   "metadata": {
    "collapsed": true
   },
   "outputs": [],
   "source": [
    "TRAIN_DIR= 'I:/train/train'\n",
    "TEST_DIR = 'I:/test1/test1'\n",
    "IMG_SIZE = 50 "
   ]
  },
  {
   "cell_type": "code",
   "execution_count": 8,
   "metadata": {
    "collapsed": true
   },
   "outputs": [],
   "source": [
    "#creates labels, then creates an array that includes the image and appropriate label\n",
    "def label_img(img): \n",
    "    word_label = img.split('.')[-3]\n",
    "    #conversion to binary array [cat,dog]\n",
    "    # [cat, not dog]\n",
    "    if word_label == 'cat': return [1,0]\n",
    "    # [not cat, dog]\n",
    "    elif word_label == 'dog': return [0,1] \n",
    "\n",
    "def create_train_data(): \n",
    "    training_data = [] \n",
    "    for img in tqdm(os.listdir(TRAIN_DIR)): \n",
    "        label = label_img(img)\n",
    "        path = os.path.join(TRAIN_DIR,img)\n",
    "        img = cv2.imread(path,cv2.IMREAD_GRAYSCALE)\n",
    "        img = cv2.resize(img, (IMG_SIZE,IMG_SIZE))\n",
    "        training_data.append([np.array(img),np.array(label)])\n",
    "    shuffle(training_data) \n",
    "    np.save('train_data.npy', training_data)\n",
    "    return training_data "
   ]
  },
  {
   "cell_type": "code",
   "execution_count": 10,
   "metadata": {
    "scrolled": true
   },
   "outputs": [
    {
     "name": "stderr",
     "output_type": "stream",
     "text": [
      "100%|██████████| 25000/25000 [00:58<00:00, 428.23it/s]\n"
     ]
    }
   ],
   "source": [
    "train_data = create_train_data()"
   ]
  },
  {
   "cell_type": "code",
   "execution_count": 19,
   "metadata": {},
   "outputs": [],
   "source": [
    "#does the same thing for unlabeled test data \n",
    "def process_test_data(): \n",
    "    testing_data = [] \n",
    "    for img in tqdm(os.listdir(TEST_DIR)): \n",
    "        path = os.path.join(TEST_DIR,img)\n",
    "        img_num = img.split('.')[0]\n",
    "        img = cv2.imread(path,cv2.IMREAD_GRAYSCALE)\n",
    "        img = cv2.resize(img, (IMG_SIZE,IMG_SIZE)) \n",
    "        testing_data.append([np.array(img), img_num])\n",
    "    shuffle(testing_data)\n",
    "    np.save('test_data.npy', testing_data)\n",
    "    return testing_data"
   ]
  },
  {
   "cell_type": "code",
   "execution_count": 20,
   "metadata": {
    "collapsed": true
   },
   "outputs": [],
   "source": [
    "##Split training and testing data\n",
    "train = train_data[:-500]\n",
    "test = train_data[-500:]"
   ]
  },
  {
   "cell_type": "code",
   "execution_count": 109,
   "metadata": {
    "collapsed": true
   },
   "outputs": [],
   "source": [
    "def reshape_response(Y): \n",
    "    train_Y = [] \n",
    "    for i in Y: \n",
    "        if i[0]==1 and i[1]==0:\n",
    "            train_Y.append(1)\n",
    "        else: \n",
    "            train_Y.append(0) \n",
    "    n = len(train_Y)\n",
    "    train_Y = np.array(train_Y).reshape((n,1))\n",
    "    return train_Y\n",
    "\n",
    "def flatten_features(X): \n",
    "    container = []\n",
    "    m,n,p,q = np.shape(X)\n",
    "    for i in range(0,m): \n",
    "        temp = X[i].flatten()\n",
    "        container.append(temp)\n",
    "    flat_array = np.vstack(container)\n",
    "    return flat_array"
   ]
  },
  {
   "cell_type": "code",
   "execution_count": 118,
   "metadata": {},
   "outputs": [],
   "source": [
    "##Create data arrays, split into feature and response \n",
    "trainX = np.array([i[0] for i in train]).reshape(-1,IMG_SIZE,IMG_SIZE,1) \n",
    "trainX = flatten_features(trainX)\n",
    "trainY = [i[1] for i in train]\n",
    "trainY = reshape_response(trainY)\n",
    "\n",
    "testX = np.array([i[0] for i in test]).reshape(-1,IMG_SIZE,IMG_SIZE,1)\n",
    "testX = flatten_features(testX)\n",
    "testY = [i[1] for i in test]\n",
    "testY = reshape_response(testY)"
   ]
  },
  {
   "cell_type": "code",
   "execution_count": 111,
   "metadata": {},
   "outputs": [],
   "source": [
    "#import the model from sklearn\n",
    "from sklearn.linear_model import LogisticRegression"
   ]
  },
  {
   "cell_type": "code",
   "execution_count": 112,
   "metadata": {
    "collapsed": true
   },
   "outputs": [],
   "source": [
    "#Make an instance of the model\n",
    "logreg = LogisticRegression()"
   ]
  },
  {
   "cell_type": "code",
   "execution_count": 121,
   "metadata": {},
   "outputs": [
    {
     "data": {
      "text/plain": [
       "LogisticRegression(C=1.0, class_weight=None, dual=False, fit_intercept=True,\n",
       "          intercept_scaling=1, max_iter=100, multi_class='ovr', n_jobs=1,\n",
       "          penalty='l2', random_state=None, solver='liblinear', tol=0.0001,\n",
       "          verbose=0, warm_start=False)"
      ]
     },
     "execution_count": 121,
     "metadata": {},
     "output_type": "execute_result"
    }
   ],
   "source": [
    "#Fit a model on the training data\n",
    "logreg.fit(trainX,trainY.ravel())"
   ]
  },
  {
   "cell_type": "code",
   "execution_count": 123,
   "metadata": {
    "collapsed": true
   },
   "outputs": [],
   "source": [
    "#Predict labels for the new data \n",
    "predictions = logreg.predict(testX)"
   ]
  },
  {
   "cell_type": "code",
   "execution_count": 126,
   "metadata": {},
   "outputs": [
    {
     "name": "stdout",
     "output_type": "stream",
     "text": [
      "0.558\n"
     ]
    }
   ],
   "source": [
    "#Measure Model Performance: accuracy score \n",
    "score = logreg.score(testX,testY)\n",
    "print(score)"
   ]
  },
  {
   "cell_type": "code",
   "execution_count": 128,
   "metadata": {},
   "outputs": [],
   "source": [
    "import matplotlib.pyplot as plt \n",
    "import seaborn as sns \n",
    "from sklearn import metrics"
   ]
  },
  {
   "cell_type": "code",
   "execution_count": 129,
   "metadata": {},
   "outputs": [
    {
     "name": "stdout",
     "output_type": "stream",
     "text": [
      "[[112 115]\n",
      " [106 167]]\n"
     ]
    }
   ],
   "source": [
    "#Confusion Matrix\n",
    "cm = metrics.confusion_matrix(testY, predictions)\n",
    "print(cm)"
   ]
  },
  {
   "cell_type": "code",
   "execution_count": 132,
   "metadata": {},
   "outputs": [
    {
     "data": {
      "text/plain": [
       "Text(0.5,1,'Accuracy Score: 0.558')"
      ]
     },
     "execution_count": 132,
     "metadata": {},
     "output_type": "execute_result"
    },
    {
     "data": {
      "image/png": "[encoded data removed]",
      "text/plain": [
       "<Figure size 144x144 with 2 Axes>"
      ]
     },
     "metadata": {
      "needs_background": "light"
     },
     "output_type": "display_data"
    }
   ],
   "source": [
    "#Seaborn Confusion Matrix \n",
    "plt.figure(figsize=(2,2))\n",
    "sns.heatmap(cm, annot=True, fmt=\".3f\", linewidths=.5, cmap= 'Blues_r')\n",
    "plt.ylabel('Actual Label')\n",
    "plt.xlabel('Predicted Label')\n",
    "all_sample_title = 'Accuracy Score: {0}'.format(score)\n",
    "plt.title(all_sample_title, size = 15)"
   ]
  },
  {
   "cell_type": "code",
   "execution_count": null,
   "metadata": {
    "collapsed": true
   },
   "outputs": [],
   "source": [
    "##Special Thanks to Harrison \"sentdex\" Kinsley and Michale Galarnyk for their amazing tutorials that made this possible: \n",
    "#https://pythonprogramming.net/convolutional-neural-network-kats-vs-dogs-machine-learning-tutorial/#\n",
    "#https://towardsdatascience.com/logistic-regression-using-python-sklearn-numpy-mnist-handwriting-recognition-matplotlib-a6b31e2b166a\n",
    "\n",
    "#data courtesy of Kaggle: https://www.kaggle.com/c/dogs-vs-cats/overview\n",
    "\n",
    "##Possible improvements: \n",
    "#use train_test_split and enable \"stratify\" to ensure even distribution of classes.\n",
    "#standardize the data in advance of model fitting and testing "
   ]
  }
 ],
 "metadata": {
  "kernelspec": {
   "display_name": "Python 3",
   "language": "python",
   "name": "python3"
  },
  "language_info": {
   "codemirror_mode": {
    "name": "ipython",
    "version": 3
   },
   "file_extension": ".py",
   "mimetype": "text/x-python",
   "name": "python",
   "nbconvert_exporter": "python",
   "pygments_lexer": "ipython3",
   "version": "3.6.3"
  }
 },
 "nbformat": 4,
 "nbformat_minor": 2
}
